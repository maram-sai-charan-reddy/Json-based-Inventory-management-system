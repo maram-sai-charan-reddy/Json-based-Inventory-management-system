{
 "cells": [
  {
   "cell_type": "code",
   "execution_count": 1,
   "metadata": {},
   "outputs": [],
   "source": [
    "import json\n",
    "\n",
    "fd = open(\"inventory.json\",'r')\n",
    "r = fd.read()\n",
    "fd.close()"
   ]
  },
  {
   "cell_type": "code",
   "execution_count": 2,
   "metadata": {},
   "outputs": [],
   "source": [
    "resources = json.loads(r)"
   ]
  },
  {
   "cell_type": "code",
   "execution_count": null,
   "metadata": {},
   "outputs": [],
   "source": [
    "print(\"Welcome to the Store\")"
   ]
  },
  {
   "cell_type": "code",
   "execution_count": null,
   "metadata": {},
   "outputs": [],
   "source": [
    "ui_prod = input(\"Enter the product Id: \")\n",
    "ui_quan = int(input(\"Enter the quantity of the Product: \"))"
   ]
  },
  {
   "cell_type": "code",
   "execution_count": null,
   "metadata": {},
   "outputs": [],
   "source": [
    "for i in resources.keys():\n",
    "    while ui_prod == i:\n",
    "        if ui_quan <= resources[i]['quan']:\n",
    "            print(\"****************************************\")\n",
    "            print(\"             product:\",resources[ui_prod]['name'])\n",
    "            print(\"               price:\",resources[ui_prod]['price'])\n",
    "            print(\"         Expiry date:\",resources[ui_prod]['expiry'])\n",
    "            print(\" Manufacturing Brand:\",resources[ui_prod]['brand'])\n",
    "            print(\"****************************************\")\n",
    "            print(\"----------BILLING DETAILS:---------- \")\n",
    "            print(\"Total Amount: \",resources[ui_prod]['price']*ui_quan) \n",
    "            print(\"Enjoy Your Day\")\n",
    "            print(\"Thank You. Visit Again\")\n",
    "            print(\"**********************************\")\n",
    "            resources[ui_prod][\"quan\"] = resources[ui_prod][\"quan\"] - ui_quan\n",
    "        else:\n",
    "            print(\"Sorry. Stock of product you enterd is: \",resources[ui_prod]['quan'],\"\\nPlease accept our apologies for this inconvenience\")\n",
    "        break\n",
    "if ui_prod not in resources.keys():\n",
    "   print(\"Sorry. No product found for ID: \",ui_prod,\"\\Please enter valid product ID\")"
   ]
  },
  {
   "cell_type": "code",
   "execution_count": null,
   "metadata": {},
   "outputs": [],
   "source": [
    "js = json.dumps(resources)"
   ]
  },
  {
   "cell_type": "code",
   "execution_count": null,
   "metadata": {},
   "outputs": [],
   "source": [
    "fd = open(\"inventory.json\",'w')\n",
    "fd.write(js)\n",
    "fd.close()"
   ]
  },
  {
   "cell_type": "code",
   "execution_count": null,
   "metadata": {},
   "outputs": [],
   "source": [
    "fd = open(\"sales.json\",'r')\n",
    "trans = fd.read()\n",
    "fd.close()"
   ]
  },
  {
   "cell_type": "code",
   "execution_count": null,
   "metadata": {},
   "outputs": [],
   "source": [
    "sales = json.loads(trans)\n",
    "num = len(sales)+1"
   ]
  },
  {
   "cell_type": "code",
   "execution_count": null,
   "metadata": {},
   "outputs": [],
   "source": [
    "sales[num] = {'prod':ui_prod, 'quan' : ui_quan, 'amount': resources[ui_prod]['price'] * ui_quan}\n",
    "sale = json.dumps(sales)"
   ]
  },
  {
   "cell_type": "code",
   "execution_count": null,
   "metadata": {},
   "outputs": [],
   "source": [
    "fd = open(\"sales.json\",'w')\n",
    "fd.write(sale)\n",
    "fd.close()"
   ]
  },
  {
   "cell_type": "code",
   "execution_count": null,
   "metadata": {},
   "outputs": [],
   "source": [
    "resources"
   ]
  }
 ],
 "metadata": {
  "kernelspec": {
   "display_name": "Python 3",
   "language": "python",
   "name": "python3"
  },
  "language_info": {
   "codemirror_mode": {
    "name": "ipython",
    "version": 3
   },
   "file_extension": ".py",
   "mimetype": "text/x-python",
   "name": "python",
   "nbconvert_exporter": "python",
   "pygments_lexer": "ipython3",
   "version": "3.7.6"
  }
 },
 "nbformat": 4,
 "nbformat_minor": 4
}

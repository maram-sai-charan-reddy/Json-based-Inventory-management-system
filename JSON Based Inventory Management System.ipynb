{
 "cells": [
  {
   "cell_type": "markdown",
   "metadata": {},
   "source": [
    "# Sample dictionary with data"
   ]
  },
  {
   "cell_type": "code",
   "execution_count": 1,
   "metadata": {},
   "outputs": [],
   "source": [
    "resource = {'B18CS072':{'name':'sai charan','branch':'CSE','cgpa':8.72},\n",
    "           'B18CS083':{'name':'pravalika','branch':'CSE','cgpa':9.3},\n",
    "           'B18EC030':{'name':'kasula sumanth','branch':'ECE','cgpa':8.78}}"
   ]
  },
  {
   "cell_type": "code",
   "execution_count": 2,
   "metadata": {},
   "outputs": [
    {
     "data": {
      "text/plain": [
       "{'B18CS072': {'name': 'sai charan', 'branch': 'CSE', 'cgpa': 8.72},\n",
       " 'B18CS083': {'name': 'pravalika', 'branch': 'CSE', 'cgpa': 9.3},\n",
       " 'B18EC030': {'name': 'kasula sumanth', 'branch': 'ECE', 'cgpa': 8.78}}"
      ]
     },
     "execution_count": 2,
     "metadata": {},
     "output_type": "execute_result"
    }
   ],
   "source": [
    "resource"
   ]
  },
  {
   "cell_type": "markdown",
   "metadata": {},
   "source": [
    "# Taking values using input"
   ]
  },
  {
   "cell_type": "code",
   "execution_count": 3,
   "metadata": {},
   "outputs": [
    {
     "name": "stdout",
     "output_type": "stream",
     "text": [
      "Enter roll no: B18CS032\n",
      "Enter name: martha raj kumar\n",
      "Enter branch: CSE\n",
      "Enter cgpa: 7.5\n"
     ]
    }
   ],
   "source": [
    "roll_no = input(\"Enter roll no: \")\n",
    "name = input(\"Enter name: \")\n",
    "branch = input(\"Enter branch: \")\n",
    "cgpa = float(input(\"Enter cgpa: \"))"
   ]
  },
  {
   "cell_type": "code",
   "execution_count": 4,
   "metadata": {},
   "outputs": [],
   "source": [
    "resource[roll_no] = {'name':name,'branch':branch,'cgpa':cgpa}"
   ]
  },
  {
   "cell_type": "markdown",
   "metadata": {},
   "source": [
    "As you can clearly observe that a new row of data is added to the dictionary, in same way we can add any number of inputs to the dictionary."
   ]
  },
  {
   "cell_type": "code",
   "execution_count": 5,
   "metadata": {},
   "outputs": [
    {
     "data": {
      "text/plain": [
       "{'B18CS072': {'name': 'sai charan', 'branch': 'CSE', 'cgpa': 8.72},\n",
       " 'B18CS083': {'name': 'pravalika', 'branch': 'CSE', 'cgpa': 9.3},\n",
       " 'B18EC030': {'name': 'kasula sumanth', 'branch': 'ECE', 'cgpa': 8.78},\n",
       " 'B18CS032': {'name': 'martha raj kumar', 'branch': 'CSE', 'cgpa': 7.5}}"
      ]
     },
     "execution_count": 5,
     "metadata": {},
     "output_type": "execute_result"
    }
   ],
   "source": [
    "resource"
   ]
  },
  {
   "cell_type": "markdown",
   "metadata": {},
   "source": [
    "# import json to create a .json file "
   ]
  },
  {
   "cell_type": "code",
   "execution_count": 6,
   "metadata": {},
   "outputs": [],
   "source": [
    "import json"
   ]
  },
  {
   "cell_type": "code",
   "execution_count": 7,
   "metadata": {},
   "outputs": [],
   "source": [
    "js = json.dumps(resource)"
   ]
  },
  {
   "cell_type": "code",
   "execution_count": 8,
   "metadata": {},
   "outputs": [
    {
     "data": {
      "text/plain": [
       "'{\"B18CS072\": {\"name\": \"sai charan\", \"branch\": \"CSE\", \"cgpa\": 8.72}, \"B18CS083\": {\"name\": \"pravalika\", \"branch\": \"CSE\", \"cgpa\": 9.3}, \"B18EC030\": {\"name\": \"kasula sumanth\", \"branch\": \"ECE\", \"cgpa\": 8.78}, \"B18CS032\": {\"name\": \"martha raj kumar\", \"branch\": \"CSE\", \"cgpa\": 7.5}}'"
      ]
     },
     "execution_count": 8,
     "metadata": {},
     "output_type": "execute_result"
    }
   ],
   "source": [
    "js"
   ]
  },
  {
   "cell_type": "markdown",
   "metadata": {},
   "source": [
    "# write the data into .json file"
   ]
  },
  {
   "cell_type": "markdown",
   "metadata": {},
   "source": [
    "If already inventory .json file does not exist the file is created and data is added to it"
   ]
  },
  {
   "cell_type": "code",
   "execution_count": 9,
   "metadata": {},
   "outputs": [],
   "source": [
    "fd = open('inventory.json','w')\n",
    "\n",
    "fd.write(js)\n",
    "\n",
    "fd.close()"
   ]
  },
  {
   "cell_type": "code",
   "execution_count": 10,
   "metadata": {},
   "outputs": [],
   "source": [
    "fd = open('inventory.json','r')\n",
    "\n",
    "txt = fd.read()\n",
    "\n",
    "fd.close()"
   ]
  },
  {
   "cell_type": "code",
   "execution_count": 11,
   "metadata": {},
   "outputs": [
    {
     "data": {
      "text/plain": [
       "'{\"B18CS072\": {\"name\": \"sai charan\", \"branch\": \"CSE\", \"cgpa\": 8.72}, \"B18CS083\": {\"name\": \"pravalika\", \"branch\": \"CSE\", \"cgpa\": 9.3}, \"B18EC030\": {\"name\": \"kasula sumanth\", \"branch\": \"ECE\", \"cgpa\": 8.78}, \"B18CS032\": {\"name\": \"martha raj kumar\", \"branch\": \"CSE\", \"cgpa\": 7.5}}'"
      ]
     },
     "execution_count": 11,
     "metadata": {},
     "output_type": "execute_result"
    }
   ],
   "source": [
    "txt"
   ]
  },
  {
   "cell_type": "markdown",
   "metadata": {},
   "source": [
    "# Now, getting data from .json file to a dictionary"
   ]
  },
  {
   "cell_type": "code",
   "execution_count": 12,
   "metadata": {},
   "outputs": [],
   "source": [
    "resource = json.loads(txt)"
   ]
  },
  {
   "cell_type": "code",
   "execution_count": 13,
   "metadata": {},
   "outputs": [
    {
     "data": {
      "text/plain": [
       "{'B18CS072': {'name': 'sai charan', 'branch': 'CSE', 'cgpa': 8.72},\n",
       " 'B18CS083': {'name': 'pravalika', 'branch': 'CSE', 'cgpa': 9.3},\n",
       " 'B18EC030': {'name': 'kasula sumanth', 'branch': 'ECE', 'cgpa': 8.78},\n",
       " 'B18CS032': {'name': 'martha raj kumar', 'branch': 'CSE', 'cgpa': 7.5}}"
      ]
     },
     "execution_count": 13,
     "metadata": {},
     "output_type": "execute_result"
    }
   ],
   "source": [
    "resource"
   ]
  },
  {
   "cell_type": "markdown",
   "metadata": {},
   "source": [
    "# Different ways to access specific records from resource"
   ]
  },
  {
   "cell_type": "code",
   "execution_count": 14,
   "metadata": {},
   "outputs": [
    {
     "data": {
      "text/plain": [
       "{'name': 'sai charan', 'branch': 'CSE', 'cgpa': 8.72}"
      ]
     },
     "execution_count": 14,
     "metadata": {},
     "output_type": "execute_result"
    }
   ],
   "source": [
    "resource['B18CS072']"
   ]
  },
  {
   "cell_type": "code",
   "execution_count": 15,
   "metadata": {},
   "outputs": [
    {
     "data": {
      "text/plain": [
       "'CSE'"
      ]
     },
     "execution_count": 15,
     "metadata": {},
     "output_type": "execute_result"
    }
   ],
   "source": [
    "resource['B18CS083']['branch']"
   ]
  },
  {
   "cell_type": "code",
   "execution_count": 16,
   "metadata": {},
   "outputs": [
    {
     "data": {
      "text/plain": [
       "'kasula sumanth'"
      ]
     },
     "execution_count": 16,
     "metadata": {},
     "output_type": "execute_result"
    }
   ],
   "source": [
    "resource['B18EC030']['name']"
   ]
  },
  {
   "cell_type": "markdown",
   "metadata": {},
   "source": [
    "# We can add time stamp using time library"
   ]
  },
  {
   "cell_type": "markdown",
   "metadata": {},
   "source": [
    "It gives the current time of the system"
   ]
  },
  {
   "cell_type": "code",
   "execution_count": 17,
   "metadata": {},
   "outputs": [],
   "source": [
    "import time"
   ]
  },
  {
   "cell_type": "code",
   "execution_count": 18,
   "metadata": {},
   "outputs": [
    {
     "data": {
      "text/plain": [
       "'Sat Sep  4 08:45:59 2021'"
      ]
     },
     "execution_count": 18,
     "metadata": {},
     "output_type": "execute_result"
    }
   ],
   "source": [
    "time.ctime()"
   ]
  },
  {
   "cell_type": "code",
   "execution_count": null,
   "metadata": {},
   "outputs": [],
   "source": []
  }
 ],
 "metadata": {
  "kernelspec": {
   "display_name": "Python 3",
   "language": "python",
   "name": "python3"
  },
  "language_info": {
   "codemirror_mode": {
    "name": "ipython",
    "version": 3
   },
   "file_extension": ".py",
   "mimetype": "text/x-python",
   "name": "python",
   "nbconvert_exporter": "python",
   "pygments_lexer": "ipython3",
   "version": "3.7.6"
  }
 },
 "nbformat": 4,
 "nbformat_minor": 4
}
